{
 "cells": [
  {
   "cell_type": "code",
   "execution_count": 9,
   "id": "0e9f5285-8f4d-4beb-82f0-f91467802a11",
   "metadata": {},
   "outputs": [
    {
     "name": "stdout",
     "output_type": "stream",
     "text": [
      "114 57 172 86 43 130 65 196 98 49 148 74 37 112 56 28 14 7 22 11 34 17 52 26 13 40 20 10 5 16 8 4 2 1\n"
     ]
    }
   ],
   "source": [
    "#Гипотеза Коллатца\n",
    "# Для объяснения сути гипотезы рассмотрим следующую последовательность чисел, \n",
    "# называемую сираку́зской после́довательностью. Берём любое натуральное число n.\n",
    "# Если оно чётное, то делим его на 2, а если нечётное, то умножаем на 3 и прибавляем 1 \n",
    "# (получаем 3n + 1). Над полученным числом выполняем те же самые действия, и так далее.\n",
    "# Гипотеза Коллатца заключается в том, что какое бы начальное число n мы ни взяли, \n",
    "# рано или поздно мы получим единицу.\n",
    "# Например, для числа 3 получаем:\n",
    "# 3 — нечётное, 3×3 + 1 = 10\n",
    "# 10 — чётное, 10:2 = 5\n",
    "# 5 — нечётное, 5×3 + 1 = 16\n",
    "# 16 — чётное, 16:2 = 8\n",
    "# 8 — чётное, 8:2 = 4\n",
    "# 4 — чётное, 4:2 = 2\n",
    "# 2 — чётное, 2:2 = 1\n",
    "# 1 — нечётное.\n",
    "\n",
    "def collatz(x):\n",
    "    yield x\n",
    "    while x != 1:\n",
    "        x = (3 * x + 1) if (x % 2) else (x // 2)\n",
    "        yield x\n",
    "\n",
    "print(*collatz(114))"
   ]
  },
  {
   "cell_type": "code",
   "execution_count": 2,
   "id": "4b591fac-9c5c-4b74-836c-12cb4a36a108",
   "metadata": {},
   "outputs": [
    {
     "data": {
      "text/plain": [
       "[111, '-11', '-11', '-1', '-1', '-1', '-1', '-1']"
      ]
     },
     "execution_count": 2,
     "metadata": {},
     "output_type": "execute_result"
    }
   ],
   "source": [
    "# Задача с набором еденичек (есть неточность):\n",
    "# У пятилетней Алисы любимое число 1 и она старается интерпритировать все положительные четные числа\n",
    "# которые знает как сумму сложения или вычитания еденичек. На самом деле много вариантов как сложить из \n",
    "# еденичек нужное число, но Алиса хочет найти самые короткие сложения или вычитания.\n",
    "# Например: 7 = 1 + 1 + 1 + 1 + 1 + 1 + 1 но чуть короче будет если 7 = 11 - 1 - 1 - 1 - 1\n",
    "# Давайте напишем функцию которая будет помогать Алисе \n",
    "# искать минимальное сложение/вычитание чисел 1 числу N\n",
    "# На вход принимаем строку число до 10 000 \n",
    "# Результат список с стрками в виде набора чисел (полож/отриц)\n",
    "# 654 даст [1111, '-111', '-111', '-111', '-111', '-11', '-1', '-1']\n",
    "# А 11 будет давать [11, '1', '1', '1']\n",
    "# Сто одинадцать, так ... [111, '-11', '-11', '-1', '-1', '-1', '-1', '-1']\n",
    "# Ну и так далее...\n",
    "    \n",
    "\n",
    "\n",
    "def start_position(value):\n",
    "    \"\"\"Эта функция нам возвращает стартовое значение\n",
    "    в виде числа от которого будет происходит отсчет.\n",
    "    либо от большего и уменьшая, либо от меньшего к прибавлять.\n",
    "    \"\"\"\n",
    "    maxima = '1' * (len(value) + 1)\n",
    "    if int(maxima) // 2 < int(value):\n",
    "        return maxima\n",
    "    else:\n",
    "        return '1' * len(value)\n",
    "        \n",
    "# Алгоритм подсчета start_position() такой: \n",
    "# брем число с колличеством символов как и входное value\n",
    "# но + один символ. Например дано 78, 111 будет то число которое нам подходит. 688 - 1111,\n",
    "# ну и так далее... Всегда число из едениц но на один символ больше.\n",
    "# Делим его пополам (без остатка), и если получившееся значение больше чем наше входное, то из этого следует\n",
    "# что нам выгоднее от большего отнимать. То есть от 111 отнимая двигаться к 78, от 1111 отнимая к 688.\n",
    "# Если поделив меньше чем входное, то от меньшего прибавляем от 11 до 54 от 111 к 554...\n",
    "\n",
    "\n",
    "\n",
    "def gather_ones(val):\n",
    "    result = []\n",
    "    starter = int(start_position(val))\n",
    "    result.append(starter)\n",
    "    if starter > int(val):\n",
    "        rest = starter - int(val)\n",
    "        while rest > 0:\n",
    "            int_times = len(str(rest))\n",
    "            ones = ('1' * int_times)\n",
    "            appender = str('-' + ones)\n",
    "            result.append(appender)\n",
    "            rest += int(appender)\n",
    "    elif starter < int(val):\n",
    "        rest = int(val) - starter\n",
    "        while rest > 0:\n",
    "            ones = ('1' * len(str(rest)))\n",
    "            if int(ones) < rest:\n",
    "                rest -= int(ones) \n",
    "                result.append(ones)\n",
    "            else:\n",
    "                ones = ('1' * len(str(rest - 1)))\n",
    "                rest -= int(ones) \n",
    "                result.append(ones)       \n",
    "    return result\n",
    "            \n",
    "            \n",
    "gather_ones('84')"
   ]
  },
  {
   "cell_type": "code",
   "execution_count": 4,
   "id": "5f56f7fa-75e8-4c1f-9a22-fe47fb0ee88b",
   "metadata": {},
   "outputs": [
    {
     "name": "stdout",
     "output_type": "stream",
     "text": [
      "                                                # \n",
      "                                              # # # \n",
      "                                            # # # # # \n",
      "                                          # # # # # # # \n",
      "                                        # # # # # # # # # \n",
      "                                      # # # # # # # # # # # \n",
      "                                    # # # # # # # # # # # # # \n",
      "                                  # # # # # # # # # # # # # # # \n",
      "                                # # # # # # # # # # # # # # # # # \n",
      "                              # # # # # # # # # # # # # # # # # # # \n",
      "                            # # # # # # # # # # # # # # # # # # # # # \n",
      "                          # # # # # # # # # # # # # # # # # # # # # # # \n",
      "                        # # # # # # # # # # # # # # # # # # # # # # # # # \n",
      "                      # # # # # # # # # # # # # # # # # # # # # # # # # # # \n",
      "                    # # # # # # # # # # # # # # # # # # # # # # # # # # # # # \n",
      "                  # # # # # # # # # # # # # # # # # # # # # # # # # # # # # # # \n",
      "                # # # # # # # # # # # # # # # # # # # # # # # # # # # # # # # # # \n",
      "              # # # # # # # # # # # # # # # # # # # # # # # # # # # # # # # # # # # \n",
      "            # # # # # # # # # # # # # # # # # # # # # # # # # # # # # # # # # # # # # \n",
      "          # # # # # # # # # # # # # # # # # # # # # # # # # # # # # # # # # # # # # # # \n",
      "        # # # # # # # # # # # # # # # # # # # # # # # # # # # # # # # # # # # # # # # # # \n",
      "      # # # # # # # # # # # # # # # # # # # # # # # # # # # # # # # # # # # # # # # # # # # \n",
      "    # # # # # # # # # # # # # # # # # # # # # # # # # # # # # # # # # # # # # # # # # # # # # \n",
      "  # # # # # # # # # # # # # # # # # # # # # # # # # # # # # # # # # # # # # # # # # # # # # # # \n",
      "# # # # # # # # # # # # # # # # # # # # # # # # # # # # # # # # # # # # # # # # # # # # # # # # # \n"
     ]
    }
   ],
   "source": [
    "# Pyramid maker - Печатаем пирамиду\n",
    "\n",
    "\n",
    "hight = 25   # Max 25\n",
    "k = 0\n",
    "for i in range(1, hight+1):\n",
    "    for space in range(1, (hight-i)+1):\n",
    "        print(end=\"  \")\n",
    "   \n",
    "    while k!=(2*i-1):\n",
    "        print(\"# \", end=\"\")\n",
    "        k += 1\n",
    "   \n",
    "    k = 0\n",
    "    print()"
   ]
  },
  {
   "cell_type": "code",
   "execution_count": 12,
   "id": "0bb1e501-3df5-4630-8133-9a518be07d72",
   "metadata": {},
   "outputs": [
    {
     "data": {
      "text/plain": [
       "'splited be should that words many so is here hello'"
      ]
     },
     "execution_count": 12,
     "metadata": {},
     "output_type": "execute_result"
    }
   ],
   "source": [
    "# Изменить порядок слов\n",
    "# Вам дана строка ‘s’ с некоторым количеством слов N. Нужно сделать так, чтобы исходный порядок слов в \n",
    "# строке изменился на обратный.\n",
    "# При этом в исходной строке между словами может быть множество пробелов, но в результате работы \n",
    "# скрипта мы должны получить предложение с одним пробелом между словами, без пробелов в начале \n",
    "# предложения и после его конца.\n",
    "# Время выполнения скрипта не должно превышать 1 секунду.\n",
    "\n",
    "inp = ' hello here is so many words that should be splited '\n",
    "\n",
    "_res = [ w.strip() for w in inp.split()]\n",
    "out = ' '.join(_res[::-1])\n",
    "out"
   ]
  },
  {
   "cell_type": "code",
   "execution_count": 1,
   "id": "9b19e2bb-936a-4348-9400-e9bad5d573ec",
   "metadata": {},
   "outputs": [
    {
     "data": {
      "text/plain": [
       "132"
      ]
     },
     "execution_count": 1,
     "metadata": {},
     "output_type": "execute_result"
    }
   ],
   "source": [
    "# Сумма всех чисел до N\n",
    "# Вам дано число N. Напишите скрипт, который считал бы сумму всех четных чисел в промежутке от 1 до N, \n",
    "# включая N. К примеру, если N равняется 6, то вывод должен быть равен 2+4+6, то есть 12.\n",
    "\n",
    "n = 23\n",
    "_in = sum([i for i in range(0,n,2)])\n",
    "_in"
   ]
  },
  {
   "cell_type": "code",
   "execution_count": 53,
   "id": "ac126cd8-c540-4225-9569-8f6016d77925",
   "metadata": {},
   "outputs": [
    {
     "name": "stdout",
     "output_type": "stream",
     "text": [
      "False True False True False False True False\n"
     ]
    }
   ],
   "source": [
    "# Палиндромы из чисел\n",
    "# У вас есть список из целых чисел. Вам нужно написать скрипт, который определит, \n",
    "# является ли последовательность чисел палиндромом. \n",
    "# Если это палиндром, нужно вернуть true, а если нет — вернуть false.\n",
    "\n",
    "inl = [ 10,55,23,77,34,21,99,31 ]\n",
    "\n",
    "def ff(v):\n",
    "    if str(v) == str(v)[::-1]:\n",
    "        return True\n",
    "    else:\n",
    "        return False\n",
    "\n",
    "\n",
    "out1 = map(ff,inl)\n",
    "print(*out1)\n"
   ]
  },
  {
   "cell_type": "code",
   "execution_count": 5,
   "id": "f89cafa5-e633-4cc4-a0a5-8ac4cf3dfbf7",
   "metadata": {},
   "outputs": [
    {
     "data": {
      "text/plain": [
       "'MCM XXIV'"
      ]
     },
     "execution_count": 5,
     "metadata": {},
     "output_type": "execute_result"
    }
   ],
   "source": [
    "# Конвертер чисел - конвертирует арабские числа в римские\n",
    "def arab_roman(num):\n",
    "    m = [\"\", \"M\", \"MM\", \"MMM\"]\n",
    "    c = [\"\", \"C\", \"CC\", \"CCC\", \"CD\", \"D\",\n",
    "         \"DC\", \"DCC\", \"DCCC\", \"CM \"]\n",
    "    x = [\"\", \"X\", \"XX\", \"XXX\", \"XL\", \"L\",\n",
    "         \"LX\", \"LXX\", \"LXXX\", \"XC\"]\n",
    "    i = [\"\", \"I\", \"II\", \"III\", \"IV\", \"V\",\n",
    "         \"VI\", \"VII\", \"VIII\", \"IX\"]\n",
    "    thousands = m[num // 1000]\n",
    "    hundreds = c[(num % 1000) // 100]\n",
    "    tens = x[(num % 100) // 10]\n",
    "    ones = i[num % 10]\n",
    " \n",
    "    ans = (thousands + hundreds +\n",
    "           tens + ones)\n",
    " \n",
    "    return ans\n",
    "\n",
    "arab_roman(1924)"
   ]
  },
  {
   "cell_type": "code",
   "execution_count": 7,
   "id": "a83ce2bb-20bc-481c-9e9d-f6330795541a",
   "metadata": {},
   "outputs": [
    {
     "name": "stdout",
     "output_type": "stream",
     "text": [
      "0:29\n"
     ]
    }
   ],
   "source": [
    "# Иван в офисе смотрит в зеркало на дизайнерские часы с делениями но без цифр, видит время в зеркальном отображении.\n",
    "# Надо написать функцию которая получает время в зеркальном 11:20 отбражении и переводит его как следует в реальности 1:40.\n",
    "# На вход даются два числа где первое число это часы второе минуты...\n",
    "\n",
    "def mirror_clock(h,m):\n",
    "    hours = [i for i in range(0,12)]\n",
    "    minutes = [y for y in range(0,60)]\n",
    "    return f\"{len(hours[:-h])}:{len(minutes[:-m])}\"\n",
    "\n",
    "print(mirror_clock(20,31))"
   ]
  },
  {
   "cell_type": "code",
   "execution_count": 8,
   "id": "d3c9b556-a0c2-4d7c-a35e-013f940bbf79",
   "metadata": {},
   "outputs": [
    {
     "data": {
      "text/plain": [
       "'These nums works: -1 + 12 so that equals 11'"
      ]
     },
     "execution_count": 8,
     "metadata": {},
     "output_type": "execute_result"
    }
   ],
   "source": [
    "# Дан отсортированный массив чисел m=list и число k=int, \n",
    "# необходимо найти в этом массиве два элемента которые в сумме дают - k\n",
    "\n",
    "m = [-1,-5,9,34,25,63,12,91,52,75,97,22,11,-5,3,27,10]\n",
    "\n",
    "def find_number(arr,guess):\n",
    "    for item in arr:\n",
    "        for one in arr:\n",
    "            if item != one:\n",
    "                if item + one == guess:\n",
    "                    return f\"These nums works: {item} + {one} so that equals {guess}\"\n",
    "\n",
    "\n",
    "find_number(m,11)"
   ]
  },
  {
   "cell_type": "code",
   "execution_count": 11,
   "id": "f1b90464-d9b7-47ef-a41e-c210885f625d",
   "metadata": {},
   "outputs": [
    {
     "name": "stdout",
     "output_type": "stream",
     "text": [
      "Current time is:  20:43\n",
      "The Value Between Two Arrows are : 240.0 C∘\n"
     ]
    }
   ],
   "source": [
    "# Задача про часы и угол . \n",
    "# Написать функцию которая расчитывает угол между часовой и минутной стрелкой.\n",
    "# В качестве аргумента передаем время в 12 часовом формате / строка типа ('9:45').\n",
    "\n",
    "from datetime import datetime\n",
    "_time = datetime.now()\n",
    "NOW_TIME = f\"{_time.hour}:{_time.minute}\"\n",
    "print(\"Current time is: \", NOW_TIME)  # Время сейчас - текущее время.\n",
    "\n",
    "def get_angle(curr_time):\n",
    "    hh = 360 / 12 # 30c in one hour - расчет градусов в часе\n",
    "    mm = 360 / 60 # 6c in one minute - расчет градусов в минуте\n",
    "    hours,minutes = curr_time.split(':') # Разбиваем строку на два сегмента ЧАСЫ/МИНУТЫ\n",
    "    h_point = hh * int(hours) \n",
    "    m_point = mm * int(minutes)\n",
    "    #     print('Minutes Pointer on C∘ :', m_point)\n",
    "    #     print(\"Hours pointer on C∘ :\", h_point)\n",
    "    result = 360 - (h_point - m_point) if (h_point > m_point) else 360 - (m_point - h_point)\n",
    "    return f\"The Value Between Two Arrows are : {result} C∘\"\n",
    "\n",
    "print(get_angle('2:30'))"
   ]
  },
  {
   "cell_type": "code",
   "execution_count": 23,
   "id": "f78beddb-b74d-4b46-9524-25b98786a11d",
   "metadata": {},
   "outputs": [
    {
     "data": {
      "text/plain": [
       "'The biggest square are :10 x 10'"
      ]
     },
     "execution_count": 23,
     "metadata": {},
     "output_type": "execute_result"
    }
   ],
   "source": [
    "# Квадраты (Алгоритм Евклида) \n",
    "# Нахождение НОД для двух целых чисел (наибольший общий делитель)\n",
    "# Представим что мы имеем прямоугольник размером шириной=А и высотой=В \n",
    "# его нужно поделить на максимально большие равнозначные квадраты.\n",
    "# Функция отвечает на вопрос - какой размер максимального большого квадрата (общего делителя).\n",
    "# Вариант с рекурсией.\n",
    "\n",
    "\n",
    "def euclidus(a: int,b: int):\n",
    "    r = a % b \n",
    "    if r == 0:\n",
    "        return f\"The biggest square are :{b} x {b}\"\n",
    "    else:\n",
    "        a,b = b,r\n",
    "        return euclidus(a,b)\n",
    "\n",
    "euclidus(1660,110)"
   ]
  }
 ],
 "metadata": {
  "kernelspec": {
   "display_name": "Python 3 (ipykernel)",
   "language": "python",
   "name": "python3"
  },
  "language_info": {
   "codemirror_mode": {
    "name": "ipython",
    "version": 3
   },
   "file_extension": ".py",
   "mimetype": "text/x-python",
   "name": "python",
   "nbconvert_exporter": "python",
   "pygments_lexer": "ipython3",
   "version": "3.13.0a6"
  }
 },
 "nbformat": 4,
 "nbformat_minor": 5
}
